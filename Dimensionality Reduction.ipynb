{
 "cells": [
  {
   "cell_type": "markdown",
   "id": "026cc994",
   "metadata": {},
   "source": [
    "<br><br><br><br>\n",
    "# Tugas Dimensionality Reduction\n",
    "# Domain Data Science\n",
    "***\n",
    "\n",
    "Kelompok 11 :\n",
    "1. Bryan Yoga Adhi Nugraha (Kelas Kusuma)\n",
    "2.\n",
    "3.\n",
    "4.\n",
    "5.\n",
    "6."
   ]
  },
  {
   "cell_type": "markdown",
   "id": "206d412c",
   "metadata": {},
   "source": [
    "### Latihan 1\n",
    "***\n",
    "Membuat model data reduction dengan menggunakan PCA (Principle Componen Analysis), dengan ketentuan sebagai berikut:\n",
    "1. Buatlah dataFrame dengan jumlah fiture 15\n",
    "2. Generate dataFrame dengan bilangan float secara random antara 0 dan 1, serta buat n_component berjumlah 2.\n",
    "3. Membuat Label A, B, C dan D (masing-masing jumlah 150 data), kemudian lanjutkan proses reduksi data model PCA sampai dengan visualisasi data dalam bentuk plot."
   ]
  },
  {
   "cell_type": "markdown",
   "id": "22f5dc62",
   "metadata": {},
   "source": [
    "##### Membuat Data frame"
   ]
  },
  {
   "cell_type": "code",
   "execution_count": 15,
   "id": "e6ec5f98",
   "metadata": {},
   "outputs": [],
   "source": [
    "import pandas as pd\n",
    "import numpy as np\n",
    "import random\n",
    "import matplotlib.pyplot as plt"
   ]
  },
  {
   "cell_type": "code",
   "execution_count": 2,
   "id": "caac61f7",
   "metadata": {},
   "outputs": [],
   "source": [
    "# generate data secara random dengan aturan aturan, misal banyak data = 100, lalu elemen setiap feature bernilai antara 0 hingga 1\n",
    "data = {'feature_1' : [random.uniform(0,1) for i in range (150)],\n",
    "       'feature_2' : [random.uniform(0,1) for i in range (150)],\n",
    "       'feature_3' : [random.uniform(0,1) for i in range (150)],\n",
    "       'feature_4' : [random.uniform(0,1) for i in range (150)],\n",
    "       'feature_5' : [random.uniform(0,1) for i in range (150)],\n",
    "       'feature_6' : [random.uniform(0,1) for i in range (150)],\n",
    "       'feature_7' : [random.uniform(0,1) for i in range (150)],\n",
    "       'feature_8' : [random.uniform(0,1) for i in range (150)],\n",
    "       'feature_9' : [random.uniform(0,1) for i in range (150)],\n",
    "       'feature_10' : [random.uniform(0,1) for i in range (150)],\n",
    "        'feature_11' : [random.uniform(0,1) for i in range (150)],\n",
    "        'feature_12' : [random.uniform(0,1) for i in range (150)],\n",
    "        'feature_13' : [random.uniform(0,1) for i in range (150)],\n",
    "        'feature_14' : [random.uniform(0,1) for i in range (150)],\n",
    "        'feature_15' : [random.uniform(0,1) for i in range (150)],\n",
    "        'label' : [random.choice (['A','B','C','D']) for i in range (150)] #generate data label/kategori random dengan 4 label yaitu A, B, C, D\n",
    "       }"
   ]
  },
  {
   "cell_type": "code",
   "execution_count": 3,
   "id": "e41a210d",
   "metadata": {},
   "outputs": [
    {
     "data": {
      "text/html": [
       "<div>\n",
       "<style scoped>\n",
       "    .dataframe tbody tr th:only-of-type {\n",
       "        vertical-align: middle;\n",
       "    }\n",
       "\n",
       "    .dataframe tbody tr th {\n",
       "        vertical-align: top;\n",
       "    }\n",
       "\n",
       "    .dataframe thead th {\n",
       "        text-align: right;\n",
       "    }\n",
       "</style>\n",
       "<table border=\"1\" class=\"dataframe\">\n",
       "  <thead>\n",
       "    <tr style=\"text-align: right;\">\n",
       "      <th></th>\n",
       "      <th>feature_1</th>\n",
       "      <th>feature_2</th>\n",
       "      <th>feature_3</th>\n",
       "      <th>feature_4</th>\n",
       "      <th>feature_5</th>\n",
       "      <th>feature_6</th>\n",
       "      <th>feature_7</th>\n",
       "      <th>feature_8</th>\n",
       "      <th>feature_9</th>\n",
       "      <th>feature_10</th>\n",
       "      <th>feature_11</th>\n",
       "      <th>feature_12</th>\n",
       "      <th>feature_13</th>\n",
       "      <th>feature_14</th>\n",
       "      <th>feature_15</th>\n",
       "      <th>label</th>\n",
       "    </tr>\n",
       "  </thead>\n",
       "  <tbody>\n",
       "    <tr>\n",
       "      <th>0</th>\n",
       "      <td>0.983465</td>\n",
       "      <td>0.151002</td>\n",
       "      <td>0.354336</td>\n",
       "      <td>0.617598</td>\n",
       "      <td>0.096514</td>\n",
       "      <td>0.001147</td>\n",
       "      <td>0.868118</td>\n",
       "      <td>0.321117</td>\n",
       "      <td>0.429454</td>\n",
       "      <td>0.017366</td>\n",
       "      <td>0.929490</td>\n",
       "      <td>0.239686</td>\n",
       "      <td>0.583181</td>\n",
       "      <td>0.500478</td>\n",
       "      <td>0.690909</td>\n",
       "      <td>B</td>\n",
       "    </tr>\n",
       "    <tr>\n",
       "      <th>1</th>\n",
       "      <td>0.493193</td>\n",
       "      <td>0.914353</td>\n",
       "      <td>0.433913</td>\n",
       "      <td>0.220449</td>\n",
       "      <td>0.883439</td>\n",
       "      <td>0.397735</td>\n",
       "      <td>0.683081</td>\n",
       "      <td>0.263994</td>\n",
       "      <td>0.716698</td>\n",
       "      <td>0.483627</td>\n",
       "      <td>0.419318</td>\n",
       "      <td>0.210660</td>\n",
       "      <td>0.309127</td>\n",
       "      <td>0.153171</td>\n",
       "      <td>0.316786</td>\n",
       "      <td>B</td>\n",
       "    </tr>\n",
       "    <tr>\n",
       "      <th>2</th>\n",
       "      <td>0.727394</td>\n",
       "      <td>0.927737</td>\n",
       "      <td>0.902500</td>\n",
       "      <td>0.594815</td>\n",
       "      <td>0.396380</td>\n",
       "      <td>0.902229</td>\n",
       "      <td>0.739184</td>\n",
       "      <td>0.226891</td>\n",
       "      <td>0.144307</td>\n",
       "      <td>0.419523</td>\n",
       "      <td>0.366720</td>\n",
       "      <td>0.574364</td>\n",
       "      <td>0.803735</td>\n",
       "      <td>0.714766</td>\n",
       "      <td>0.110600</td>\n",
       "      <td>B</td>\n",
       "    </tr>\n",
       "    <tr>\n",
       "      <th>3</th>\n",
       "      <td>0.274858</td>\n",
       "      <td>0.781231</td>\n",
       "      <td>0.843467</td>\n",
       "      <td>0.182707</td>\n",
       "      <td>0.272938</td>\n",
       "      <td>0.842759</td>\n",
       "      <td>0.534058</td>\n",
       "      <td>0.250493</td>\n",
       "      <td>0.713397</td>\n",
       "      <td>0.227455</td>\n",
       "      <td>0.696601</td>\n",
       "      <td>0.201621</td>\n",
       "      <td>0.838072</td>\n",
       "      <td>0.496900</td>\n",
       "      <td>0.726755</td>\n",
       "      <td>C</td>\n",
       "    </tr>\n",
       "    <tr>\n",
       "      <th>4</th>\n",
       "      <td>0.828095</td>\n",
       "      <td>0.359149</td>\n",
       "      <td>0.519414</td>\n",
       "      <td>0.847910</td>\n",
       "      <td>0.141046</td>\n",
       "      <td>0.620496</td>\n",
       "      <td>0.192884</td>\n",
       "      <td>0.496828</td>\n",
       "      <td>0.761720</td>\n",
       "      <td>0.112233</td>\n",
       "      <td>0.888320</td>\n",
       "      <td>0.219569</td>\n",
       "      <td>0.535191</td>\n",
       "      <td>0.240076</td>\n",
       "      <td>0.295629</td>\n",
       "      <td>B</td>\n",
       "    </tr>\n",
       "  </tbody>\n",
       "</table>\n",
       "</div>"
      ],
      "text/plain": [
       "   feature_1  feature_2  feature_3  feature_4  feature_5  feature_6  \\\n",
       "0   0.983465   0.151002   0.354336   0.617598   0.096514   0.001147   \n",
       "1   0.493193   0.914353   0.433913   0.220449   0.883439   0.397735   \n",
       "2   0.727394   0.927737   0.902500   0.594815   0.396380   0.902229   \n",
       "3   0.274858   0.781231   0.843467   0.182707   0.272938   0.842759   \n",
       "4   0.828095   0.359149   0.519414   0.847910   0.141046   0.620496   \n",
       "\n",
       "   feature_7  feature_8  feature_9  feature_10  feature_11  feature_12  \\\n",
       "0   0.868118   0.321117   0.429454    0.017366    0.929490    0.239686   \n",
       "1   0.683081   0.263994   0.716698    0.483627    0.419318    0.210660   \n",
       "2   0.739184   0.226891   0.144307    0.419523    0.366720    0.574364   \n",
       "3   0.534058   0.250493   0.713397    0.227455    0.696601    0.201621   \n",
       "4   0.192884   0.496828   0.761720    0.112233    0.888320    0.219569   \n",
       "\n",
       "   feature_13  feature_14  feature_15 label  \n",
       "0    0.583181    0.500478    0.690909     B  \n",
       "1    0.309127    0.153171    0.316786     B  \n",
       "2    0.803735    0.714766    0.110600     B  \n",
       "3    0.838072    0.496900    0.726755     C  \n",
       "4    0.535191    0.240076    0.295629     B  "
      ]
     },
     "execution_count": 3,
     "metadata": {},
     "output_type": "execute_result"
    }
   ],
   "source": [
    "# Mengkonversi data menjadi dataframe\n",
    "df = pd.DataFrame(data)\n",
    "df.head()"
   ]
  },
  {
   "cell_type": "markdown",
   "id": "cd651f64",
   "metadata": {},
   "source": [
    "##### Memisahkan variabel x dan variabel y"
   ]
  },
  {
   "cell_type": "code",
   "execution_count": 4,
   "id": "4f1bd6d5",
   "metadata": {},
   "outputs": [
    {
     "data": {
      "text/html": [
       "<div>\n",
       "<style scoped>\n",
       "    .dataframe tbody tr th:only-of-type {\n",
       "        vertical-align: middle;\n",
       "    }\n",
       "\n",
       "    .dataframe tbody tr th {\n",
       "        vertical-align: top;\n",
       "    }\n",
       "\n",
       "    .dataframe thead th {\n",
       "        text-align: right;\n",
       "    }\n",
       "</style>\n",
       "<table border=\"1\" class=\"dataframe\">\n",
       "  <thead>\n",
       "    <tr style=\"text-align: right;\">\n",
       "      <th></th>\n",
       "      <th>feature_1</th>\n",
       "      <th>feature_2</th>\n",
       "      <th>feature_3</th>\n",
       "      <th>feature_4</th>\n",
       "      <th>feature_5</th>\n",
       "      <th>feature_6</th>\n",
       "      <th>feature_7</th>\n",
       "      <th>feature_8</th>\n",
       "      <th>feature_9</th>\n",
       "      <th>feature_10</th>\n",
       "      <th>feature_11</th>\n",
       "      <th>feature_12</th>\n",
       "      <th>feature_13</th>\n",
       "      <th>feature_14</th>\n",
       "      <th>feature_15</th>\n",
       "    </tr>\n",
       "  </thead>\n",
       "  <tbody>\n",
       "    <tr>\n",
       "      <th>0</th>\n",
       "      <td>0.983465</td>\n",
       "      <td>0.151002</td>\n",
       "      <td>0.354336</td>\n",
       "      <td>0.617598</td>\n",
       "      <td>0.096514</td>\n",
       "      <td>0.001147</td>\n",
       "      <td>0.868118</td>\n",
       "      <td>0.321117</td>\n",
       "      <td>0.429454</td>\n",
       "      <td>0.017366</td>\n",
       "      <td>0.929490</td>\n",
       "      <td>0.239686</td>\n",
       "      <td>0.583181</td>\n",
       "      <td>0.500478</td>\n",
       "      <td>0.690909</td>\n",
       "    </tr>\n",
       "    <tr>\n",
       "      <th>1</th>\n",
       "      <td>0.493193</td>\n",
       "      <td>0.914353</td>\n",
       "      <td>0.433913</td>\n",
       "      <td>0.220449</td>\n",
       "      <td>0.883439</td>\n",
       "      <td>0.397735</td>\n",
       "      <td>0.683081</td>\n",
       "      <td>0.263994</td>\n",
       "      <td>0.716698</td>\n",
       "      <td>0.483627</td>\n",
       "      <td>0.419318</td>\n",
       "      <td>0.210660</td>\n",
       "      <td>0.309127</td>\n",
       "      <td>0.153171</td>\n",
       "      <td>0.316786</td>\n",
       "    </tr>\n",
       "    <tr>\n",
       "      <th>2</th>\n",
       "      <td>0.727394</td>\n",
       "      <td>0.927737</td>\n",
       "      <td>0.902500</td>\n",
       "      <td>0.594815</td>\n",
       "      <td>0.396380</td>\n",
       "      <td>0.902229</td>\n",
       "      <td>0.739184</td>\n",
       "      <td>0.226891</td>\n",
       "      <td>0.144307</td>\n",
       "      <td>0.419523</td>\n",
       "      <td>0.366720</td>\n",
       "      <td>0.574364</td>\n",
       "      <td>0.803735</td>\n",
       "      <td>0.714766</td>\n",
       "      <td>0.110600</td>\n",
       "    </tr>\n",
       "    <tr>\n",
       "      <th>3</th>\n",
       "      <td>0.274858</td>\n",
       "      <td>0.781231</td>\n",
       "      <td>0.843467</td>\n",
       "      <td>0.182707</td>\n",
       "      <td>0.272938</td>\n",
       "      <td>0.842759</td>\n",
       "      <td>0.534058</td>\n",
       "      <td>0.250493</td>\n",
       "      <td>0.713397</td>\n",
       "      <td>0.227455</td>\n",
       "      <td>0.696601</td>\n",
       "      <td>0.201621</td>\n",
       "      <td>0.838072</td>\n",
       "      <td>0.496900</td>\n",
       "      <td>0.726755</td>\n",
       "    </tr>\n",
       "    <tr>\n",
       "      <th>4</th>\n",
       "      <td>0.828095</td>\n",
       "      <td>0.359149</td>\n",
       "      <td>0.519414</td>\n",
       "      <td>0.847910</td>\n",
       "      <td>0.141046</td>\n",
       "      <td>0.620496</td>\n",
       "      <td>0.192884</td>\n",
       "      <td>0.496828</td>\n",
       "      <td>0.761720</td>\n",
       "      <td>0.112233</td>\n",
       "      <td>0.888320</td>\n",
       "      <td>0.219569</td>\n",
       "      <td>0.535191</td>\n",
       "      <td>0.240076</td>\n",
       "      <td>0.295629</td>\n",
       "    </tr>\n",
       "  </tbody>\n",
       "</table>\n",
       "</div>"
      ],
      "text/plain": [
       "   feature_1  feature_2  feature_3  feature_4  feature_5  feature_6  \\\n",
       "0   0.983465   0.151002   0.354336   0.617598   0.096514   0.001147   \n",
       "1   0.493193   0.914353   0.433913   0.220449   0.883439   0.397735   \n",
       "2   0.727394   0.927737   0.902500   0.594815   0.396380   0.902229   \n",
       "3   0.274858   0.781231   0.843467   0.182707   0.272938   0.842759   \n",
       "4   0.828095   0.359149   0.519414   0.847910   0.141046   0.620496   \n",
       "\n",
       "   feature_7  feature_8  feature_9  feature_10  feature_11  feature_12  \\\n",
       "0   0.868118   0.321117   0.429454    0.017366    0.929490    0.239686   \n",
       "1   0.683081   0.263994   0.716698    0.483627    0.419318    0.210660   \n",
       "2   0.739184   0.226891   0.144307    0.419523    0.366720    0.574364   \n",
       "3   0.534058   0.250493   0.713397    0.227455    0.696601    0.201621   \n",
       "4   0.192884   0.496828   0.761720    0.112233    0.888320    0.219569   \n",
       "\n",
       "   feature_13  feature_14  feature_15  \n",
       "0    0.583181    0.500478    0.690909  \n",
       "1    0.309127    0.153171    0.316786  \n",
       "2    0.803735    0.714766    0.110600  \n",
       "3    0.838072    0.496900    0.726755  \n",
       "4    0.535191    0.240076    0.295629  "
      ]
     },
     "execution_count": 4,
     "metadata": {},
     "output_type": "execute_result"
    }
   ],
   "source": [
    "# memisahkan data antara variabel x tanpa memasukkan feature 'label'\n",
    "x = df.iloc [:,:-1]\n",
    "x.head()"
   ]
  },
  {
   "cell_type": "code",
   "execution_count": 5,
   "id": "cfe7a0cd",
   "metadata": {},
   "outputs": [
    {
     "data": {
      "text/plain": [
       "0    B\n",
       "1    B\n",
       "2    B\n",
       "3    C\n",
       "4    B\n",
       "Name: label, dtype: object"
      ]
     },
     "execution_count": 5,
     "metadata": {},
     "output_type": "execute_result"
    }
   ],
   "source": [
    "# memsihakan data untuk variabel y hanya feature 'label'\n",
    "y = df.iloc [:,-1]\n",
    "y.head()"
   ]
  },
  {
   "cell_type": "markdown",
   "id": "ce2c8e78",
   "metadata": {},
   "source": [
    "##### Reduksi dimensi menggunakan teknik PCA"
   ]
  },
  {
   "cell_type": "code",
   "execution_count": 17,
   "id": "b8b63864",
   "metadata": {},
   "outputs": [],
   "source": [
    "# liibrary yang digunakan pada teknik PCA\n",
    "from sklearn.decomposition import PCA "
   ]
  },
  {
   "cell_type": "code",
   "execution_count": 7,
   "id": "e0b4e044",
   "metadata": {},
   "outputs": [],
   "source": [
    "# menyebutkan class yang akan dibentuk untuk ukuran fitur baru (setelah reduksi dimensi)\n",
    "pca = PCA(n_components = 2)"
   ]
  },
  {
   "cell_type": "code",
   "execution_count": 8,
   "id": "70eb0875",
   "metadata": {},
   "outputs": [],
   "source": [
    "# melakukan proses tekink PCA\n",
    "fit_pca = pca.fit_transform(x)"
   ]
  },
  {
   "cell_type": "code",
   "execution_count": 9,
   "id": "031b4f67",
   "metadata": {},
   "outputs": [],
   "source": [
    "# membuat dataframe baru dengan elemennya aadalah 2 fitur baru hasil reduksi dimensi\n",
    "pca_df = pd.DataFrame(data = fit_pca, columns = ['PCA_1','PCA_2'])"
   ]
  },
  {
   "cell_type": "code",
   "execution_count": 10,
   "id": "44d63c34",
   "metadata": {},
   "outputs": [
    {
     "data": {
      "text/html": [
       "<div>\n",
       "<style scoped>\n",
       "    .dataframe tbody tr th:only-of-type {\n",
       "        vertical-align: middle;\n",
       "    }\n",
       "\n",
       "    .dataframe tbody tr th {\n",
       "        vertical-align: top;\n",
       "    }\n",
       "\n",
       "    .dataframe thead th {\n",
       "        text-align: right;\n",
       "    }\n",
       "</style>\n",
       "<table border=\"1\" class=\"dataframe\">\n",
       "  <thead>\n",
       "    <tr style=\"text-align: right;\">\n",
       "      <th></th>\n",
       "      <th>PCA_1</th>\n",
       "      <th>PCA_2</th>\n",
       "    </tr>\n",
       "  </thead>\n",
       "  <tbody>\n",
       "    <tr>\n",
       "      <th>0</th>\n",
       "      <td>-0.141198</td>\n",
       "      <td>0.607559</td>\n",
       "    </tr>\n",
       "    <tr>\n",
       "      <th>1</th>\n",
       "      <td>-0.217792</td>\n",
       "      <td>-0.467265</td>\n",
       "    </tr>\n",
       "    <tr>\n",
       "      <th>2</th>\n",
       "      <td>-0.127450</td>\n",
       "      <td>-0.183192</td>\n",
       "    </tr>\n",
       "    <tr>\n",
       "      <th>3</th>\n",
       "      <td>-0.123139</td>\n",
       "      <td>-0.240678</td>\n",
       "    </tr>\n",
       "    <tr>\n",
       "      <th>4</th>\n",
       "      <td>0.086815</td>\n",
       "      <td>0.626682</td>\n",
       "    </tr>\n",
       "    <tr>\n",
       "      <th>...</th>\n",
       "      <td>...</td>\n",
       "      <td>...</td>\n",
       "    </tr>\n",
       "    <tr>\n",
       "      <th>145</th>\n",
       "      <td>-0.493644</td>\n",
       "      <td>-0.302522</td>\n",
       "    </tr>\n",
       "    <tr>\n",
       "      <th>146</th>\n",
       "      <td>-0.300047</td>\n",
       "      <td>0.433641</td>\n",
       "    </tr>\n",
       "    <tr>\n",
       "      <th>147</th>\n",
       "      <td>-0.333700</td>\n",
       "      <td>0.060788</td>\n",
       "    </tr>\n",
       "    <tr>\n",
       "      <th>148</th>\n",
       "      <td>0.520978</td>\n",
       "      <td>0.062005</td>\n",
       "    </tr>\n",
       "    <tr>\n",
       "      <th>149</th>\n",
       "      <td>-0.214398</td>\n",
       "      <td>-0.271296</td>\n",
       "    </tr>\n",
       "  </tbody>\n",
       "</table>\n",
       "<p>150 rows × 2 columns</p>\n",
       "</div>"
      ],
      "text/plain": [
       "        PCA_1     PCA_2\n",
       "0   -0.141198  0.607559\n",
       "1   -0.217792 -0.467265\n",
       "2   -0.127450 -0.183192\n",
       "3   -0.123139 -0.240678\n",
       "4    0.086815  0.626682\n",
       "..        ...       ...\n",
       "145 -0.493644 -0.302522\n",
       "146 -0.300047  0.433641\n",
       "147 -0.333700  0.060788\n",
       "148  0.520978  0.062005\n",
       "149 -0.214398 -0.271296\n",
       "\n",
       "[150 rows x 2 columns]"
      ]
     },
     "execution_count": 10,
     "metadata": {},
     "output_type": "execute_result"
    }
   ],
   "source": [
    "pca_df # menampilkan data 5 atas dan bawah jika atas pakai head() bawah tail()"
   ]
  },
  {
   "cell_type": "code",
   "execution_count": 11,
   "id": "ea32e823",
   "metadata": {},
   "outputs": [
    {
     "data": {
      "text/html": [
       "<div>\n",
       "<style scoped>\n",
       "    .dataframe tbody tr th:only-of-type {\n",
       "        vertical-align: middle;\n",
       "    }\n",
       "\n",
       "    .dataframe tbody tr th {\n",
       "        vertical-align: top;\n",
       "    }\n",
       "\n",
       "    .dataframe thead th {\n",
       "        text-align: right;\n",
       "    }\n",
       "</style>\n",
       "<table border=\"1\" class=\"dataframe\">\n",
       "  <thead>\n",
       "    <tr style=\"text-align: right;\">\n",
       "      <th></th>\n",
       "      <th>PCA_1</th>\n",
       "      <th>PCA_2</th>\n",
       "    </tr>\n",
       "  </thead>\n",
       "  <tbody>\n",
       "    <tr>\n",
       "      <th>145</th>\n",
       "      <td>-0.493644</td>\n",
       "      <td>-0.302522</td>\n",
       "    </tr>\n",
       "    <tr>\n",
       "      <th>146</th>\n",
       "      <td>-0.300047</td>\n",
       "      <td>0.433641</td>\n",
       "    </tr>\n",
       "    <tr>\n",
       "      <th>147</th>\n",
       "      <td>-0.333700</td>\n",
       "      <td>0.060788</td>\n",
       "    </tr>\n",
       "    <tr>\n",
       "      <th>148</th>\n",
       "      <td>0.520978</td>\n",
       "      <td>0.062005</td>\n",
       "    </tr>\n",
       "    <tr>\n",
       "      <th>149</th>\n",
       "      <td>-0.214398</td>\n",
       "      <td>-0.271296</td>\n",
       "    </tr>\n",
       "  </tbody>\n",
       "</table>\n",
       "</div>"
      ],
      "text/plain": [
       "        PCA_1     PCA_2\n",
       "145 -0.493644 -0.302522\n",
       "146 -0.300047  0.433641\n",
       "147 -0.333700  0.060788\n",
       "148  0.520978  0.062005\n",
       "149 -0.214398 -0.271296"
      ]
     },
     "execution_count": 11,
     "metadata": {},
     "output_type": "execute_result"
    }
   ],
   "source": [
    "pca_df.tail()"
   ]
  },
  {
   "cell_type": "code",
   "execution_count": 12,
   "id": "9b65be73",
   "metadata": {},
   "outputs": [],
   "source": [
    "# menggambungkan data 2 fitur baru hasil reduksi dengan dataframe label\n",
    "new_df = pd.concat([pca_df, df[['label']]], axis=1)"
   ]
  },
  {
   "cell_type": "code",
   "execution_count": 13,
   "id": "a1375110",
   "metadata": {},
   "outputs": [
    {
     "data": {
      "text/html": [
       "<div>\n",
       "<style scoped>\n",
       "    .dataframe tbody tr th:only-of-type {\n",
       "        vertical-align: middle;\n",
       "    }\n",
       "\n",
       "    .dataframe tbody tr th {\n",
       "        vertical-align: top;\n",
       "    }\n",
       "\n",
       "    .dataframe thead th {\n",
       "        text-align: right;\n",
       "    }\n",
       "</style>\n",
       "<table border=\"1\" class=\"dataframe\">\n",
       "  <thead>\n",
       "    <tr style=\"text-align: right;\">\n",
       "      <th></th>\n",
       "      <th>PCA_1</th>\n",
       "      <th>PCA_2</th>\n",
       "      <th>label</th>\n",
       "    </tr>\n",
       "  </thead>\n",
       "  <tbody>\n",
       "    <tr>\n",
       "      <th>0</th>\n",
       "      <td>-0.141198</td>\n",
       "      <td>0.607559</td>\n",
       "      <td>B</td>\n",
       "    </tr>\n",
       "    <tr>\n",
       "      <th>1</th>\n",
       "      <td>-0.217792</td>\n",
       "      <td>-0.467265</td>\n",
       "      <td>B</td>\n",
       "    </tr>\n",
       "    <tr>\n",
       "      <th>2</th>\n",
       "      <td>-0.127450</td>\n",
       "      <td>-0.183192</td>\n",
       "      <td>B</td>\n",
       "    </tr>\n",
       "    <tr>\n",
       "      <th>3</th>\n",
       "      <td>-0.123139</td>\n",
       "      <td>-0.240678</td>\n",
       "      <td>C</td>\n",
       "    </tr>\n",
       "    <tr>\n",
       "      <th>4</th>\n",
       "      <td>0.086815</td>\n",
       "      <td>0.626682</td>\n",
       "      <td>B</td>\n",
       "    </tr>\n",
       "    <tr>\n",
       "      <th>...</th>\n",
       "      <td>...</td>\n",
       "      <td>...</td>\n",
       "      <td>...</td>\n",
       "    </tr>\n",
       "    <tr>\n",
       "      <th>145</th>\n",
       "      <td>-0.493644</td>\n",
       "      <td>-0.302522</td>\n",
       "      <td>C</td>\n",
       "    </tr>\n",
       "    <tr>\n",
       "      <th>146</th>\n",
       "      <td>-0.300047</td>\n",
       "      <td>0.433641</td>\n",
       "      <td>D</td>\n",
       "    </tr>\n",
       "    <tr>\n",
       "      <th>147</th>\n",
       "      <td>-0.333700</td>\n",
       "      <td>0.060788</td>\n",
       "      <td>D</td>\n",
       "    </tr>\n",
       "    <tr>\n",
       "      <th>148</th>\n",
       "      <td>0.520978</td>\n",
       "      <td>0.062005</td>\n",
       "      <td>A</td>\n",
       "    </tr>\n",
       "    <tr>\n",
       "      <th>149</th>\n",
       "      <td>-0.214398</td>\n",
       "      <td>-0.271296</td>\n",
       "      <td>D</td>\n",
       "    </tr>\n",
       "  </tbody>\n",
       "</table>\n",
       "<p>150 rows × 3 columns</p>\n",
       "</div>"
      ],
      "text/plain": [
       "        PCA_1     PCA_2 label\n",
       "0   -0.141198  0.607559     B\n",
       "1   -0.217792 -0.467265     B\n",
       "2   -0.127450 -0.183192     B\n",
       "3   -0.123139 -0.240678     C\n",
       "4    0.086815  0.626682     B\n",
       "..        ...       ...   ...\n",
       "145 -0.493644 -0.302522     C\n",
       "146 -0.300047  0.433641     D\n",
       "147 -0.333700  0.060788     D\n",
       "148  0.520978  0.062005     A\n",
       "149 -0.214398 -0.271296     D\n",
       "\n",
       "[150 rows x 3 columns]"
      ]
     },
     "execution_count": 13,
     "metadata": {},
     "output_type": "execute_result"
    }
   ],
   "source": [
    "new_df\n"
   ]
  },
  {
   "cell_type": "code",
   "execution_count": 16,
   "id": "6870ac7f",
   "metadata": {},
   "outputs": [
    {
     "data": {
      "image/png": "[encoded data removed]",
      "text/plain": [
       "<Figure size 576x576 with 1 Axes>"
      ]
     },
     "metadata": {
      "needs_background": "light"
     },
     "output_type": "display_data"
    }
   ],
   "source": [
    "fig = plt.figure (figsize = (8,8))\n",
    "ax = fig.add_subplot(1,1,1)\n",
    "ax.set_xlabel('PCA_1',fontsize=15)\n",
    "ax.set_ylabel('PCA_2',fontsize=15)\n",
    "ax.set_title('2 komponenPCA',fontsize=20)\n",
    "\n",
    "targets = ['A','B', 'C']\n",
    "colors = ['r','g','b']\n",
    "\n",
    "for target, color in zip(targets,colors):\n",
    "    indicesToKeep = new_df['label']==target\n",
    "    ax.scatter(new_df.loc[indicesToKeep,'PCA_1'],\n",
    "              new_df.loc[indicesToKeep,'PCA_2'],\n",
    "              c = color,\n",
    "              s = 50\n",
    "              )\n",
    "    ax.legend(targets)\n",
    "    ax.grid()\n"
   ]
  },
  {
   "cell_type": "markdown",
   "id": "0d473559",
   "metadata": {},
   "source": [
    "<br><br><br>\n",
    "### Latihan 2\n",
    "***\n",
    "Membuat model data reduction dengan menggunakan LDA (Linear Discriminant Analysis) dengan ketentuan sebagai berikut:\n",
    "\n",
    "1. Menggunakan data dari hasil pengukuran bunga iris, silahkan download di sini: https://archive.ics.uci.edu/ml/machine-learning-databases/iris/\n",
    "2. Tampilkan dataframe untuk variabel x dan y (data tabular). kemudian lanjutkan proses reduksi data model LDA sampai dengan visualisasi data dalam bentuk plot."
   ]
  },
  {
   "cell_type": "markdown",
   "id": "35772559",
   "metadata": {},
   "source": [
    "##### Import Package/Load Dataset"
   ]
  },
  {
   "cell_type": "code",
   "execution_count": 19,
   "id": "f8d1863f",
   "metadata": {},
   "outputs": [],
   "source": [
    "from sklearn.model_selection import train_test_split\n",
    "from sklearn.model_selection import RepeatedStratifiedKFold\n",
    "from sklearn.model_selection import cross_val_score\n",
    "from sklearn.discriminant_analysis import LinearDiscriminantAnalysis\n",
    "from sklearn import datasets\n",
    "import matplotlib.pyplot as plt"
   ]
  },
  {
   "cell_type": "code",
   "execution_count": 20,
   "id": "cfca3382",
   "metadata": {},
   "outputs": [],
   "source": [
    "iris = datasets.load_iris()"
   ]
  },
  {
   "cell_type": "code",
   "execution_count": 21,
   "id": "374360d5",
   "metadata": {},
   "outputs": [],
   "source": [
    "df =  pd.DataFrame(data= np.c_[iris['data'], iris  ['target']],\n",
    "                  columns= iris['feature_names']+['target'])\n",
    "df ['species']= pd.Categorical.from_codes(iris.target, iris.target_names)\n",
    "df.columns = ['s_length','s_width','p_length','p_width', 'target','species']"
   ]
  },
  {
   "cell_type": "code",
   "execution_count": 23,
   "id": "7581b89a",
   "metadata": {},
   "outputs": [
    {
     "data": {
      "text/html": [
       "<div>\n",
       "<style scoped>\n",
       "    .dataframe tbody tr th:only-of-type {\n",
       "        vertical-align: middle;\n",
       "    }\n",
       "\n",
       "    .dataframe tbody tr th {\n",
       "        vertical-align: top;\n",
       "    }\n",
       "\n",
       "    .dataframe thead th {\n",
       "        text-align: right;\n",
       "    }\n",
       "</style>\n",
       "<table border=\"1\" class=\"dataframe\">\n",
       "  <thead>\n",
       "    <tr style=\"text-align: right;\">\n",
       "      <th></th>\n",
       "      <th>s_length</th>\n",
       "      <th>s_width</th>\n",
       "      <th>p_length</th>\n",
       "      <th>p_width</th>\n",
       "      <th>target</th>\n",
       "      <th>species</th>\n",
       "    </tr>\n",
       "  </thead>\n",
       "  <tbody>\n",
       "    <tr>\n",
       "      <th>0</th>\n",
       "      <td>5.1</td>\n",
       "      <td>3.5</td>\n",
       "      <td>1.4</td>\n",
       "      <td>0.2</td>\n",
       "      <td>0.0</td>\n",
       "      <td>setosa</td>\n",
       "    </tr>\n",
       "    <tr>\n",
       "      <th>1</th>\n",
       "      <td>4.9</td>\n",
       "      <td>3.0</td>\n",
       "      <td>1.4</td>\n",
       "      <td>0.2</td>\n",
       "      <td>0.0</td>\n",
       "      <td>setosa</td>\n",
       "    </tr>\n",
       "    <tr>\n",
       "      <th>2</th>\n",
       "      <td>4.7</td>\n",
       "      <td>3.2</td>\n",
       "      <td>1.3</td>\n",
       "      <td>0.2</td>\n",
       "      <td>0.0</td>\n",
       "      <td>setosa</td>\n",
       "    </tr>\n",
       "    <tr>\n",
       "      <th>3</th>\n",
       "      <td>4.6</td>\n",
       "      <td>3.1</td>\n",
       "      <td>1.5</td>\n",
       "      <td>0.2</td>\n",
       "      <td>0.0</td>\n",
       "      <td>setosa</td>\n",
       "    </tr>\n",
       "    <tr>\n",
       "      <th>4</th>\n",
       "      <td>5.0</td>\n",
       "      <td>3.6</td>\n",
       "      <td>1.4</td>\n",
       "      <td>0.2</td>\n",
       "      <td>0.0</td>\n",
       "      <td>setosa</td>\n",
       "    </tr>\n",
       "  </tbody>\n",
       "</table>\n",
       "</div>"
      ],
      "text/plain": [
       "   s_length  s_width  p_length  p_width  target species\n",
       "0       5.1      3.5       1.4      0.2     0.0  setosa\n",
       "1       4.9      3.0       1.4      0.2     0.0  setosa\n",
       "2       4.7      3.2       1.3      0.2     0.0  setosa\n",
       "3       4.6      3.1       1.5      0.2     0.0  setosa\n",
       "4       5.0      3.6       1.4      0.2     0.0  setosa"
      ]
     },
     "execution_count": 23,
     "metadata": {},
     "output_type": "execute_result"
    }
   ],
   "source": [
    "df.head()"
   ]
  },
  {
   "cell_type": "markdown",
   "id": "b926dcfe",
   "metadata": {},
   "source": [
    "##### Memisahkan data feature dengan data target"
   ]
  },
  {
   "cell_type": "code",
   "execution_count": 24,
   "id": "5a1e887d",
   "metadata": {},
   "outputs": [],
   "source": [
    "#  memisahkan data fitur menjadi variabel data x dan label menjadi y\n",
    "X = df[['s_length','s_width','p_length','p_width']]\n",
    "Y = df['species']"
   ]
  },
  {
   "cell_type": "code",
   "execution_count": 35,
   "id": "de4bbab9",
   "metadata": {},
   "outputs": [
    {
     "data": {
      "text/plain": [
       "array([[5.1, 3.5, 1.4, 0.2],\n",
       "       [4.9, 3. , 1.4, 0.2],\n",
       "       [4.7, 3.2, 1.3, 0.2],\n",
       "       [4.6, 3.1, 1.5, 0.2],\n",
       "       [5. , 3.6, 1.4, 0.2],\n",
       "       [5.4, 3.9, 1.7, 0.4],\n",
       "       [4.6, 3.4, 1.4, 0.3],\n",
       "       [5. , 3.4, 1.5, 0.2],\n",
       "       [4.4, 2.9, 1.4, 0.2],\n",
       "       [4.9, 3.1, 1.5, 0.1],\n",
       "       [5.4, 3.7, 1.5, 0.2],\n",
       "       [4.8, 3.4, 1.6, 0.2],\n",
       "       [4.8, 3. , 1.4, 0.1],\n",
       "       [4.3, 3. , 1.1, 0.1],\n",
       "       [5.8, 4. , 1.2, 0.2],\n",
       "       [5.7, 4.4, 1.5, 0.4],\n",
       "       [5.4, 3.9, 1.3, 0.4],\n",
       "       [5.1, 3.5, 1.4, 0.3],\n",
       "       [5.7, 3.8, 1.7, 0.3],\n",
       "       [5.1, 3.8, 1.5, 0.3],\n",
       "       [5.4, 3.4, 1.7, 0.2],\n",
       "       [5.1, 3.7, 1.5, 0.4],\n",
       "       [4.6, 3.6, 1. , 0.2],\n",
       "       [5.1, 3.3, 1.7, 0.5],\n",
       "       [4.8, 3.4, 1.9, 0.2],\n",
       "       [5. , 3. , 1.6, 0.2],\n",
       "       [5. , 3.4, 1.6, 0.4],\n",
       "       [5.2, 3.5, 1.5, 0.2],\n",
       "       [5.2, 3.4, 1.4, 0.2],\n",
       "       [4.7, 3.2, 1.6, 0.2],\n",
       "       [4.8, 3.1, 1.6, 0.2],\n",
       "       [5.4, 3.4, 1.5, 0.4],\n",
       "       [5.2, 4.1, 1.5, 0.1],\n",
       "       [5.5, 4.2, 1.4, 0.2],\n",
       "       [4.9, 3.1, 1.5, 0.2],\n",
       "       [5. , 3.2, 1.2, 0.2],\n",
       "       [5.5, 3.5, 1.3, 0.2],\n",
       "       [4.9, 3.6, 1.4, 0.1],\n",
       "       [4.4, 3. , 1.3, 0.2],\n",
       "       [5.1, 3.4, 1.5, 0.2],\n",
       "       [5. , 3.5, 1.3, 0.3],\n",
       "       [4.5, 2.3, 1.3, 0.3],\n",
       "       [4.4, 3.2, 1.3, 0.2],\n",
       "       [5. , 3.5, 1.6, 0.6],\n",
       "       [5.1, 3.8, 1.9, 0.4],\n",
       "       [4.8, 3. , 1.4, 0.3],\n",
       "       [5.1, 3.8, 1.6, 0.2],\n",
       "       [4.6, 3.2, 1.4, 0.2],\n",
       "       [5.3, 3.7, 1.5, 0.2],\n",
       "       [5. , 3.3, 1.4, 0.2],\n",
       "       [7. , 3.2, 4.7, 1.4],\n",
       "       [6.4, 3.2, 4.5, 1.5],\n",
       "       [6.9, 3.1, 4.9, 1.5],\n",
       "       [5.5, 2.3, 4. , 1.3],\n",
       "       [6.5, 2.8, 4.6, 1.5],\n",
       "       [5.7, 2.8, 4.5, 1.3],\n",
       "       [6.3, 3.3, 4.7, 1.6],\n",
       "       [4.9, 2.4, 3.3, 1. ],\n",
       "       [6.6, 2.9, 4.6, 1.3],\n",
       "       [5.2, 2.7, 3.9, 1.4],\n",
       "       [5. , 2. , 3.5, 1. ],\n",
       "       [5.9, 3. , 4.2, 1.5],\n",
       "       [6. , 2.2, 4. , 1. ],\n",
       "       [6.1, 2.9, 4.7, 1.4],\n",
       "       [5.6, 2.9, 3.6, 1.3],\n",
       "       [6.7, 3.1, 4.4, 1.4],\n",
       "       [5.6, 3. , 4.5, 1.5],\n",
       "       [5.8, 2.7, 4.1, 1. ],\n",
       "       [6.2, 2.2, 4.5, 1.5],\n",
       "       [5.6, 2.5, 3.9, 1.1],\n",
       "       [5.9, 3.2, 4.8, 1.8],\n",
       "       [6.1, 2.8, 4. , 1.3],\n",
       "       [6.3, 2.5, 4.9, 1.5],\n",
       "       [6.1, 2.8, 4.7, 1.2],\n",
       "       [6.4, 2.9, 4.3, 1.3],\n",
       "       [6.6, 3. , 4.4, 1.4],\n",
       "       [6.8, 2.8, 4.8, 1.4],\n",
       "       [6.7, 3. , 5. , 1.7],\n",
       "       [6. , 2.9, 4.5, 1.5],\n",
       "       [5.7, 2.6, 3.5, 1. ],\n",
       "       [5.5, 2.4, 3.8, 1.1],\n",
       "       [5.5, 2.4, 3.7, 1. ],\n",
       "       [5.8, 2.7, 3.9, 1.2],\n",
       "       [6. , 2.7, 5.1, 1.6],\n",
       "       [5.4, 3. , 4.5, 1.5],\n",
       "       [6. , 3.4, 4.5, 1.6],\n",
       "       [6.7, 3.1, 4.7, 1.5],\n",
       "       [6.3, 2.3, 4.4, 1.3],\n",
       "       [5.6, 3. , 4.1, 1.3],\n",
       "       [5.5, 2.5, 4. , 1.3],\n",
       "       [5.5, 2.6, 4.4, 1.2],\n",
       "       [6.1, 3. , 4.6, 1.4],\n",
       "       [5.8, 2.6, 4. , 1.2],\n",
       "       [5. , 2.3, 3.3, 1. ],\n",
       "       [5.6, 2.7, 4.2, 1.3],\n",
       "       [5.7, 3. , 4.2, 1.2],\n",
       "       [5.7, 2.9, 4.2, 1.3],\n",
       "       [6.2, 2.9, 4.3, 1.3],\n",
       "       [5.1, 2.5, 3. , 1.1],\n",
       "       [5.7, 2.8, 4.1, 1.3],\n",
       "       [6.3, 3.3, 6. , 2.5],\n",
       "       [5.8, 2.7, 5.1, 1.9],\n",
       "       [7.1, 3. , 5.9, 2.1],\n",
       "       [6.3, 2.9, 5.6, 1.8],\n",
       "       [6.5, 3. , 5.8, 2.2],\n",
       "       [7.6, 3. , 6.6, 2.1],\n",
       "       [4.9, 2.5, 4.5, 1.7],\n",
       "       [7.3, 2.9, 6.3, 1.8],\n",
       "       [6.7, 2.5, 5.8, 1.8],\n",
       "       [7.2, 3.6, 6.1, 2.5],\n",
       "       [6.5, 3.2, 5.1, 2. ],\n",
       "       [6.4, 2.7, 5.3, 1.9],\n",
       "       [6.8, 3. , 5.5, 2.1],\n",
       "       [5.7, 2.5, 5. , 2. ],\n",
       "       [5.8, 2.8, 5.1, 2.4],\n",
       "       [6.4, 3.2, 5.3, 2.3],\n",
       "       [6.5, 3. , 5.5, 1.8],\n",
       "       [7.7, 3.8, 6.7, 2.2],\n",
       "       [7.7, 2.6, 6.9, 2.3],\n",
       "       [6. , 2.2, 5. , 1.5],\n",
       "       [6.9, 3.2, 5.7, 2.3],\n",
       "       [5.6, 2.8, 4.9, 2. ],\n",
       "       [7.7, 2.8, 6.7, 2. ],\n",
       "       [6.3, 2.7, 4.9, 1.8],\n",
       "       [6.7, 3.3, 5.7, 2.1],\n",
       "       [7.2, 3.2, 6. , 1.8],\n",
       "       [6.2, 2.8, 4.8, 1.8],\n",
       "       [6.1, 3. , 4.9, 1.8],\n",
       "       [6.4, 2.8, 5.6, 2.1],\n",
       "       [7.2, 3. , 5.8, 1.6],\n",
       "       [7.4, 2.8, 6.1, 1.9],\n",
       "       [7.9, 3.8, 6.4, 2. ],\n",
       "       [6.4, 2.8, 5.6, 2.2],\n",
       "       [6.3, 2.8, 5.1, 1.5],\n",
       "       [6.1, 2.6, 5.6, 1.4],\n",
       "       [7.7, 3. , 6.1, 2.3],\n",
       "       [6.3, 3.4, 5.6, 2.4],\n",
       "       [6.4, 3.1, 5.5, 1.8],\n",
       "       [6. , 3. , 4.8, 1.8],\n",
       "       [6.9, 3.1, 5.4, 2.1],\n",
       "       [6.7, 3.1, 5.6, 2.4],\n",
       "       [6.9, 3.1, 5.1, 2.3],\n",
       "       [5.8, 2.7, 5.1, 1.9],\n",
       "       [6.8, 3.2, 5.9, 2.3],\n",
       "       [6.7, 3.3, 5.7, 2.5],\n",
       "       [6.7, 3. , 5.2, 2.3],\n",
       "       [6.3, 2.5, 5. , 1.9],\n",
       "       [6.5, 3. , 5.2, 2. ],\n",
       "       [6.2, 3.4, 5.4, 2.3],\n",
       "       [5.9, 3. , 5.1, 1.8]])"
      ]
     },
     "execution_count": 35,
     "metadata": {},
     "output_type": "execute_result"
    }
   ],
   "source": [
    "X"
   ]
  },
  {
   "cell_type": "code",
   "execution_count": 36,
   "id": "6cb09b38",
   "metadata": {},
   "outputs": [
    {
     "data": {
      "text/plain": [
       "0         setosa\n",
       "1         setosa\n",
       "2         setosa\n",
       "3         setosa\n",
       "4         setosa\n",
       "         ...    \n",
       "145    virginica\n",
       "146    virginica\n",
       "147    virginica\n",
       "148    virginica\n",
       "149    virginica\n",
       "Name: species, Length: 150, dtype: category\n",
       "Categories (3, object): ['setosa', 'versicolor', 'virginica']"
      ]
     },
     "execution_count": 36,
     "metadata": {},
     "output_type": "execute_result"
    }
   ],
   "source": [
    "Y"
   ]
  },
  {
   "cell_type": "code",
   "execution_count": 25,
   "id": "3425fa81",
   "metadata": {},
   "outputs": [
    {
     "data": {
      "text/plain": [
       "LinearDiscriminantAnalysis()"
      ]
     },
     "execution_count": 25,
     "metadata": {},
     "output_type": "execute_result"
    }
   ],
   "source": [
    "# fit model LDA\n",
    "model =LinearDiscriminantAnalysis()\n",
    "model.fit(X,Y)"
   ]
  },
  {
   "cell_type": "code",
   "execution_count": 26,
   "id": "e7ce6de4",
   "metadata": {},
   "outputs": [],
   "source": [
    "cv = RepeatedStratifiedKFold(n_splits = 10, n_repeats=3, random_state=1)"
   ]
  },
  {
   "cell_type": "code",
   "execution_count": 27,
   "id": "2e988dd7",
   "metadata": {},
   "outputs": [
    {
     "name": "stdout",
     "output_type": "stream",
     "text": [
      "0.9800000000000001\n"
     ]
    }
   ],
   "source": [
    "#evaluasi model\n",
    "scores = cross_val_score(model, X,Y,scoring='accuracy',cv=cv,n_jobs=-1)\n",
    "print(np.mean(scores))"
   ]
  },
  {
   "cell_type": "code",
   "execution_count": 28,
   "id": "7ffae2e2",
   "metadata": {},
   "outputs": [
    {
     "name": "stderr",
     "output_type": "stream",
     "text": [
      "C:\\ProgramData\\Anaconda3\\envs\\belajar_ai\\lib\\site-packages\\sklearn\\base.py:450: UserWarning: X does not have valid feature names, but LinearDiscriminantAnalysis was fitted with feature names\n",
      "  warnings.warn(\n"
     ]
    },
    {
     "data": {
      "text/plain": [
       "array(['setosa'], dtype='<U10')"
      ]
     },
     "execution_count": 28,
     "metadata": {},
     "output_type": "execute_result"
    }
   ],
   "source": [
    "#prediksi untuk data observasi baru masuk ke kelas/kategori mana\n",
    "new = [5,3,1,.4]\n",
    "model.predict([new])"
   ]
  },
  {
   "cell_type": "code",
   "execution_count": 29,
   "id": "73134cc9",
   "metadata": {},
   "outputs": [
    {
     "data": {
      "image/png": "[encoded data removed]",
      "text/plain": [
       "<Figure size 432x288 with 1 Axes>"
      ]
     },
     "metadata": {
      "needs_background": "light"
     },
     "output_type": "display_data"
    },
    {
     "data": {
      "image/png": "[encoded data removed]",
      "text/plain": [
       "<Figure size 432x288 with 1 Axes>"
      ]
     },
     "metadata": {
      "needs_background": "light"
     },
     "output_type": "display_data"
    },
    {
     "data": {
      "image/png": "[encoded data removed]",
      "text/plain": [
       "<Figure size 432x288 with 1 Axes>"
      ]
     },
     "metadata": {
      "needs_background": "light"
     },
     "output_type": "display_data"
    }
   ],
   "source": [
    "X = iris.data\n",
    "y = iris.target\n",
    "model = LinearDiscriminantAnalysis()\n",
    "data_plot = model.fit(X,Y).transform(X)\n",
    "target_names = iris.target_names\n",
    "#membuat plotLDA\n",
    "plt.figure()\n",
    "colors = ['red','green','blue']\n",
    "lw = 2\n",
    "for color, i , target_names in zip (colors, [0,1,2],target_names):\n",
    "    plt.scatter(data_plot[y==i,0],data_plot[y==i,1],alpha=.8, color=color,\n",
    "               label =target_names)\n",
    "    plt.legend(loc = 'best', shadow=False, scatterpoints=1)\n",
    "\n",
    "    plt.show()\n"
   ]
  },
  {
   "cell_type": "code",
   "execution_count": null,
   "id": "47c6c09f",
   "metadata": {},
   "outputs": [],
   "source": []
  }
 ],
 "metadata": {
  "kernelspec": {
   "display_name": "Python 3 (ipykernel)",
   "language": "python",
   "name": "python3"
  },
  "language_info": {
   "codemirror_mode": {
    "name": "ipython",
    "version": 3
   },
   "file_extension": ".py",
   "mimetype": "text/x-python",
   "name": "python",
   "nbconvert_exporter": "python",
   "pygments_lexer": "ipython3",
   "version": "3.9.7"
  }
 },
 "nbformat": 4,
 "nbformat_minor": 5
}
